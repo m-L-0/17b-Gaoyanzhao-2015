{
 "cells": [
  {
   "cell_type": "code",
   "execution_count": 3,
   "metadata": {},
   "outputs": [],
   "source": [
    "import tensorflow as tf\n",
    "import csv \n",
    "from PIL import Image, ImageEnhance"
   ]
  },
  {
   "cell_type": "code",
   "execution_count": 4,
   "metadata": {},
   "outputs": [
    {
     "name": "stdout",
     "output_type": "stream",
     "text": [
      "finish\n"
     ]
    }
   ],
   "source": [
    "def _int64_feature(value):\n",
    "    return tf.train.Feature(int64_list=tf.train.Int64List(value=[value]))\n",
    "\n",
    "def _bytes_feature(value):\n",
    "    return tf.train.Feature(bytes_list=tf.train.BytesList(value=[value]))\n",
    "\n",
    "\n",
    "writer1 = tf.python_io.TFRecordWriter(\"./data/tfrecord/train1.tfrecords\")\n",
    "writer2 = tf.python_io.TFRecordWriter(\"./data/tfrecord/train2.tfrecords\")\n",
    "writer3 = tf.python_io.TFRecordWriter(\"./data/tfrecord/train3.tfrecords\")\n",
    "writer4 = tf.python_io.TFRecordWriter(\"./data/tfrecord/train4.tfrecords\")\n",
    "writer5 = tf.python_io.TFRecordWriter(\"./data/tfrecord/train5.tfrecords\")\n",
    "writer6 = tf.python_io.TFRecordWriter(\"./data/tfrecord/train6.tfrecords\")\n",
    "writer7 = tf.python_io.TFRecordWriter(\"./data/tfrecord/train7.tfrecords\")\n",
    "writer8 = tf.python_io.TFRecordWriter(\"./data/tfrecord/train8.tfrecords\")\n",
    "writer9 = tf.python_io.TFRecordWriter(\"./data/tfrecord/validation.tfrecords\")\n",
    "writer10 = tf.python_io.TFRecordWriter(\"./data/tfrecord/test.tfrecords\")\n",
    "\n",
    "csv_file = csv.reader(open('./data/captcha/labels/labels.csv', 'r'))\n",
    "j = 1\n",
    "for i in csv_file:\n",
    "    j += 1\n",
    "    img = Image.open(i[0]).convert('L')\n",
    "    img = ImageEnhance.Sharpness(img).enhance(3)\n",
    "    img = img.resize((64,48))\n",
    "    img_width,img_high = img.size\n",
    "#     print(img_width,img_high)\n",
    "#     print(type(img_width))\n",
    "    img_raw = img.tobytes()\n",
    "    labels = int(i[1])\n",
    "    example = tf.train.Example(features=tf.train.Features(feature={\n",
    "                'img_width':_int64_feature(img_width),\n",
    "                'img_high':_int64_feature(img_high),\n",
    "                'labels': _int64_feature(labels),\n",
    "                'image_raw': _bytes_feature(img_raw)}))\n",
    "    if j / 4000 >=0 and j/4000<1:\n",
    "        writer1.write(example.SerializeToString())\n",
    "    elif j/4000>=1 and j/4000<2:\n",
    "        writer2.write(example.SerializeToString())\n",
    "    elif j/4000>=2 and j/4000<3:\n",
    "        writer3.write(example.SerializeToString())\n",
    "    elif j/4000>=3 and j/4000<4:\n",
    "        writer4.write(example.SerializeToString())\n",
    "    elif j/4000>=4 and j/4000<5:\n",
    "        writer5.write(example.SerializeToString())\n",
    "    elif j/4000>=5 and j/4000<6:\n",
    "        writer6.write(example.SerializeToString())\n",
    "    elif j/4000>=6 and j/4000<7:\n",
    "        writer7.write(example.SerializeToString())\n",
    "    elif j/4000>=7 and j/4000<8:\n",
    "        writer8.write(example.SerializeToString())\n",
    "    elif j/4000>=8 and j/4000<9:\n",
    "        writer9.write(example.SerializeToString())\n",
    "    else:\n",
    "        writer10.write(example.SerializeToString())\n",
    "writer1.close()\n",
    "writer2.close()\n",
    "writer3.close()\n",
    "writer4.close()\n",
    "writer5.close()\n",
    "writer6.close()\n",
    "writer7.close()\n",
    "writer8.close()\n",
    "writer9.close()\n",
    "writer10.close()\n",
    "print('finish')"
   ]
  },
  {
   "cell_type": "code",
   "execution_count": 16,
   "metadata": {},
   "outputs": [],
   "source": [
    "# csv_file = csv.reader(open('./data/captcha/labels/labels.csv', 'r'))\n",
    "# for i in csv_file:\n",
    "#     print(i[0])\n",
    "#     print(i[1])"
   ]
  },
  {
   "cell_type": "code",
   "execution_count": null,
   "metadata": {},
   "outputs": [],
   "source": []
  }
 ],
 "metadata": {
  "kernelspec": {
   "display_name": "Python 3",
   "language": "python",
   "name": "python3"
  },
  "language_info": {
   "codemirror_mode": {
    "name": "ipython",
    "version": 3
   },
   "file_extension": ".py",
   "mimetype": "text/x-python",
   "name": "python",
   "nbconvert_exporter": "python",
   "pygments_lexer": "ipython3",
   "version": "3.6.0"
  }
 },
 "nbformat": 4,
 "nbformat_minor": 2
}
