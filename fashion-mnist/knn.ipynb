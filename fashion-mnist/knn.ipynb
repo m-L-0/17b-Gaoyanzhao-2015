{
 "cells": [
  {
   "cell_type": "code",
   "execution_count": 1,
   "metadata": {},
   "outputs": [
    {
     "name": "stdout",
     "output_type": "stream",
     "text": [
      "Extracting data/fashion/train-images-idx3-ubyte.gz\n",
      "Extracting data/fashion/train-labels-idx1-ubyte.gz\n",
      "Extracting data/fashion/t10k-images-idx3-ubyte.gz\n",
      "Extracting data/fashion/t10k-labels-idx1-ubyte.gz\n",
      "accuracy0.8531\n"
     ]
    }
   ],
   "source": [
    "import tensorflow as tf\n",
    "import numpy as np\n",
    "from tensorflow.examples.tutorials.mnist import input_data\n",
    "\n",
    "mnist = input_data.read_data_sets(\"data/fashion\", one_hot=False)\n",
    "\n",
    "#获取数据\n",
    "def train_data():\n",
    "    imgs = mnist.train.images\n",
    "    labels = mnist.train.labels\n",
    "    return imgs, labels\n",
    "   \n",
    "def test_data():\n",
    "    imgs = mnist.test.images\n",
    "    labels = mnist.test.labels\n",
    "    return imgs, labels\n",
    "\n",
    "#归一化\n",
    "def normalize(x):\n",
    "    norms = np.array([np.sqrt(sum(np.square(i))) for i in x]).astype(np.float32)\n",
    "    norms1 = np.apply_along_axis(np.linalg.norm, 1, x)\n",
    "    return x / np.expand_dims(norms,1)\n",
    "\n",
    "#构建模型\n",
    "def nearest_neighbor(norm_func, train_data, train_label, test_data):\n",
    "    train_data = norm_func(train_data)\n",
    "    test_data = norm_func(test_data)\n",
    "    # 矩阵相乘得到一个[55000*10000]的矩阵\n",
    "    cos = np.dot(train_data, np.transpose(test_data))\n",
    "    # 找到每一列的最大值的位置，共10000个值，意味着k=1\n",
    "    max_cos = np.argmax(cos, axis=0)\n",
    "    # 找出对应位置的标签\n",
    "    test_pred = train_label[max_cos]\n",
    "    return test_pred\n",
    "\n",
    "#计算测试准确率\n",
    "def validate(test_pred,test_label):\n",
    "    c=len(test_pred)\n",
    "    correct=(test_pred == test_label).sum()\n",
    "    # 必须转变成浮点数再做除法，之前使用correct/c得到0\n",
    "    return float(correct)/c\n",
    "\n",
    "\n",
    "if __name__ == '__main__':\n",
    "    train_img, train_label = train_data()\n",
    "    test_img, test_label = test_data()\n",
    "    test_pred = nearest_neighbor(normalize, train_img, train_label, test_img)\n",
    "    prec = validate(test_pred, test_label)\n",
    "    print (u\"accuracy:%.4f\"%prec)"
   ]
  },
  {
   "cell_type": "code",
   "execution_count": null,
   "metadata": {},
   "outputs": [],
   "source": []
  }
 ],
 "metadata": {
  "kernelspec": {
   "display_name": "Python 3",
   "language": "python",
   "name": "python3"
  },
  "language_info": {
   "codemirror_mode": {
    "name": "ipython",
    "version": 3
   },
   "file_extension": ".py",
   "mimetype": "text/x-python",
   "name": "python",
   "nbconvert_exporter": "python",
   "pygments_lexer": "ipython3",
   "version": "3.6.0"
  }
 },
 "nbformat": 4,
 "nbformat_minor": 2
}
