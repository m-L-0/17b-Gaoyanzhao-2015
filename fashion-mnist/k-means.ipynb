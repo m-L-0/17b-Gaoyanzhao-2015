{
 "cells": [
  {
   "cell_type": "code",
   "execution_count": 4,
   "metadata": {},
   "outputs": [
    {
     "name": "stdout",
     "output_type": "stream",
     "text": [
      "Extracting data/fashion/train-images-idx3-ubyte.gz\n",
      "Extracting data/fashion/train-labels-idx1-ubyte.gz\n",
      "Extracting data/fashion/t10k-images-idx3-ubyte.gz\n",
      "Extracting data/fashion/t10k-labels-idx1-ubyte.gz\n"
     ]
    },
    {
     "name": "stderr",
     "output_type": "stream",
     "text": [
      "/home/yanzhao/six/lib/python3.6/site-packages/ipykernel_launcher.py:83: RuntimeWarning: invalid value encountered in double_scalars\n"
     ]
    },
    {
     "name": "stdout",
     "output_type": "stream",
     "text": [
      "[ 0.  2.  1. ...,  1.  1.  0.]\n"
     ]
    }
   ],
   "source": [
    "import numpy as np\n",
    "import tensorflow as tf\n",
    "from tensorflow.examples.tutorials.mnist import input_data\n",
    "\n",
    "\n",
    "mnist = input_data.read_data_sets(\"data/fashion\", one_hot=True)\n",
    "x_train, y_train = mnist.train.images,mnist.train.labels  \n",
    "x_test, y_test = mnist.test.images, mnist.train.labels\n",
    "\n",
    "\n",
    "class KMeans(object):\n",
    "    \"\"\"\n",
    "    - 参数\n",
    "        n_clusters:\n",
    "            聚类个数，即k\n",
    "        initCent:\n",
    "            质心初始化方式，可选\"random\"或指定一个具体的array,默认random，即随机初始化\n",
    "        max_iter:\n",
    "            最大迭代次数\n",
    "    \"\"\"\n",
    "    def __init__(self,n_clusters=3,initCent='random',max_iter=500):\n",
    "        if hasattr(initCent, '__array__'):\n",
    "            n_clusters = initCent.shape[0]\n",
    "            self.centroids = np.asarray(initCent, dtype=np.float)\n",
    "        else:\n",
    "            self.centroids = None\n",
    "        \n",
    "        self.n_clusters = n_clusters#聚类数\n",
    "        self.max_iter = max_iter#迭代次数\n",
    "        self.initCent = initCent#初始化方式\n",
    "        self.clusterAssment = None\n",
    "        self.labels = None   \n",
    "        self.sse = None \n",
    "    \n",
    "    #计算两点的欧式距离\n",
    "    def _distEclud(self, vecA, vecB):\n",
    "        return np.linalg.norm(vecA - vecB)\n",
    "        \n",
    "    #随机选取k个质心,必须在数据集的边界内\n",
    "    def _randCent(self, X, k):\n",
    "        n = X.shape[1]        #特征维数\n",
    "        centroids = np.empty((k,n))  #k*n的矩阵，用于存储质心\n",
    "        for j in range(n):           #产生k个质心，一维一维地随机初始化\n",
    "            minJ = min(X[:,j]) \n",
    "            rangeJ = float(max(X[:,j]) - minJ)\n",
    "            centroids[:,j] = (minJ + rangeJ * np.random.rand(k,1)).flatten()\n",
    "        return centroids\n",
    "        \n",
    "    def fit(self, X):\n",
    "        #类型检查\n",
    "        if not isinstance(X,np.ndarray):\n",
    "            try:\n",
    "                X = np.asarray(X)\n",
    "            except:\n",
    "                raise TypeError(\"numpy.ndarray required for X\")\n",
    "        \n",
    "        m = X.shape[0]#m代表样本数量\n",
    "        self.clusterAssment = np.empty((m,2))#m*2的矩阵，第一列存储样本点所属的族的索引值，\n",
    "                                               #第二列存储该点与所属族的质心的平方误差\n",
    "        if self.initCent == 'random':\n",
    "             self.centroids = self._randCent(X, self.n_clusters)\n",
    "        \n",
    "        clusterChanged = True\n",
    "        for _ in range(self.max_iter):\n",
    "            clusterChanged = False\n",
    "            for i in range(m):#将每个样本点分配到离它最近的质心所属的族\n",
    "                minDist = np.inf; minIndex = -1\n",
    "                for j in range(self.n_clusters):\n",
    "                    distJI = self._distEclud(self.centroids[j,:],X[i,:])\n",
    "                    if distJI < minDist:\n",
    "                        minDist = distJI; minIndex = j\n",
    "                if self.clusterAssment[i,0] != minIndex:\n",
    "                    clusterChanged = True\n",
    "                    self.clusterAssment[i,:] = minIndex,minDist**2\n",
    "                    \n",
    "            if not clusterChanged:#若所有样本点所属的族都不改变,则已收敛，结束迭代\n",
    "                break   \n",
    "            for i in range(self.n_clusters):#更新质心，即将每个族中的点的均值作为质心\n",
    "                ptsInClust = X[np.nonzero(self.clusterAssment[:,0]==i)[0]]#取出属于第i个族的所有点\n",
    "                self.centroids[i,:] = np.mean(ptsInClust, axis=0)\n",
    "        \n",
    "        self.labels = self.clusterAssment[:,0]\n",
    "        self.sse = sum(self.clusterAssment[:,1])\n",
    "\n",
    "    \n",
    "    def predict(self,X,Y):#根据聚类结果，预测新输入数据所属的族\n",
    "        #类型检查\n",
    "        if not isinstance(X,np.ndarray):\n",
    "            try:\n",
    "                X = np.asarray(X)\n",
    "            except:\n",
    "                raise TypeError(\"numpy.ndarray required for X\")\n",
    "        \n",
    "        m = X.shape[0]#m代表样本数量\n",
    "        preds = np.empty((m,))\n",
    "        for i in range(m):#将每个样本点分配到离它最近的质心所属的族\n",
    "            minDist = np.inf\n",
    "            for j in range(self.n_clusters):\n",
    "                distJI = self._distEclud(self.centroids[j,:],X[i,:])\n",
    "                if distJI < minDist:\n",
    "                    minDist = distJI\n",
    "                    preds[i] = j\n",
    "        return preds\n",
    "if __name__ == '__main__':\n",
    "    kmeans = KMeans()\n",
    "    kmeans.fit(x_train)\n",
    "    pred = kmeans.predict(x_test,y_test)\n",
    "    print(pred)"
   ]
  },
  {
   "cell_type": "code",
   "execution_count": null,
   "metadata": {},
   "outputs": [],
   "source": []
  },
  {
   "cell_type": "code",
   "execution_count": 11,
   "metadata": {},
   "outputs": [
    {
     "name": "stdout",
     "output_type": "stream",
     "text": [
      "Help on built-in function hasattr in module builtins:\n",
      "\n",
      "hasattr(obj, name, /)\n",
      "    Return whether the object has an attribute with the given name.\n",
      "    \n",
      "    This is done by calling getattr(obj, name) and catching AttributeError.\n",
      "\n"
     ]
    }
   ],
   "source": []
  },
  {
   "cell_type": "code",
   "execution_count": null,
   "metadata": {},
   "outputs": [],
   "source": []
  }
 ],
 "metadata": {
  "kernelspec": {
   "display_name": "Python 3",
   "language": "python",
   "name": "python3"
  },
  "language_info": {
   "codemirror_mode": {
    "name": "ipython",
    "version": 3
   },
   "file_extension": ".py",
   "mimetype": "text/x-python",
   "name": "python",
   "nbconvert_exporter": "python",
   "pygments_lexer": "ipython3",
   "version": "3.6.0"
  }
 },
 "nbformat": 4,
 "nbformat_minor": 2
}
