{
 "cells": [
  {
   "cell_type": "code",
   "execution_count": 16,
   "metadata": {},
   "outputs": [
    {
     "name": "stdout",
     "output_type": "stream",
     "text": [
      "Extracting data/fashion/train-images-idx3-ubyte.gz\n",
      "Extracting data/fashion/train-labels-idx1-ubyte.gz\n",
      "Extracting data/fashion/t10k-images-idx3-ubyte.gz\n",
      "Extracting data/fashion/t10k-labels-idx1-ubyte.gz\n",
      "Writing ./tfrecord/train.tfrecords\n",
      "Writing ./tfrecord/validation.tfrecords\n",
      "Writing ./tfrecord/test.tfrecords\n"
     ]
    }
   ],
   "source": [
    "import tensorflow as tf\n",
    "import numpy as np\n",
    "import os\n",
    "\n",
    "\n",
    "from tensorflow.examples.tutorials.mnist import input_data\n",
    "\n",
    "\n",
    "def _int64_feature(value):\n",
    "    return tf.train.Feature(int64_list=tf.train.Int64List(value=[value]))\n",
    "\n",
    "\n",
    "def _bytes_feature(value):\n",
    "    return tf.train.Feature(bytes_list=tf.train.BytesList(value=[value]))\n",
    "\n",
    "#读取本地二进制文件\n",
    "fourfile = input_data.read_data_sets(\"data/fashion/\",dtype = tf.uint8, one_hot=True,reshape=False)\n",
    "\n",
    "#生成tfrecord文件\n",
    "def store_convert(fourfile,name):    \n",
    "    images = fourfile.images\n",
    "    labels = fourfile.labels\n",
    "    num_examples = fourfile.num_examples\n",
    "    rows = images.shape[1]\n",
    "    cols = images.shape[2]\n",
    "    depth = images.shape[3]\n",
    "    #生成tfrecord文件名及路径\n",
    "    filename = os.path.join(\"./tfrecord\", name + '.tfrecords')\n",
    "    print('Writing', filename)\n",
    "    with tf.python_io.TFRecordWriter(filename) as writer:\n",
    "        for i in range(num_examples):\n",
    "            image_raw = images[i].tostring()\n",
    "            example = tf.train.Example(features=tf.train.Features(feature={\n",
    "                'height': _int64_feature(rows),\n",
    "                'width': _int64_feature(cols),\n",
    "                'depth': _int64_feature(depth),\n",
    "                'labels': _int64_feature(np.argmax(labels[i])),\n",
    "                'image_raw': _bytes_feature(image_raw)}))\n",
    "            writer.write(example.SerializeToString())\n",
    "\n",
    "store_convert(fourfile.train, 'train')\n",
    "store_convert(fourfile.validation, 'validation')\n",
    "store_convert(fourfile.test, 'test')"
   ]
  },
  {
   "cell_type": "code",
   "execution_count": null,
   "metadata": {},
   "outputs": [],
   "source": []
  },
  {
   "cell_type": "code",
   "execution_count": null,
   "metadata": {},
   "outputs": [],
   "source": []
  }
 ],
 "metadata": {
  "kernelspec": {
   "display_name": "Python 3",
   "language": "python",
   "name": "python3"
  },
  "language_info": {
   "codemirror_mode": {
    "name": "ipython",
    "version": 3
   },
   "file_extension": ".py",
   "mimetype": "text/x-python",
   "name": "python",
   "nbconvert_exporter": "python",
   "pygments_lexer": "ipython3",
   "version": "3.6.0"
  }
 },
 "nbformat": 4,
 "nbformat_minor": 2
}
