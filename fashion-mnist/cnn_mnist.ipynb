{
 "cells": [
  {
   "cell_type": "code",
   "execution_count": 18,
   "metadata": {},
   "outputs": [
    {
     "name": "stdout",
     "output_type": "stream",
     "text": [
      "./nn_txt/model.ckpt\n",
      "INFO:tensorflow:Restoring parameters from ./nn_txt/model.ckpt\n"
     ]
    },
    {
     "name": "stderr",
     "output_type": "stream",
     "text": [
      "INFO:tensorflow:Restoring parameters from ./nn_txt/model.ckpt\n"
     ]
    },
    {
     "name": "stdout",
     "output_type": "stream",
     "text": [
      "(6500, 28, 28, 1)\n",
      "共6500张图片\n",
      "[4 4 4 ..., 4 4 4]\n"
     ]
    }
   ],
   "source": [
    "import tensorflow as tf\n",
    "from tensorflow.examples.tutorials.mnist import input_data\n",
    "import os\n",
    "import numpy as np\n",
    "\n",
    "# Input data params\n",
    "img_height = 28\n",
    "img_width = 28\n",
    "img_channels = 1\n",
    "num_classes = 10\n",
    "\n",
    "# Training params\n",
    "learning_rate = 0.0001#学习率\n",
    "batch_size = 100\n",
    "num_epochs = 1000\n",
    "# Get the data\n",
    "#mnist_data = input_data.read_data_sets('data/fashion/', one_hot = True)\n",
    "\n",
    "# Model\n",
    "layer1_size = 5\n",
    "layer1_stride = 1\n",
    "layer1_filters = 8\n",
    "\n",
    "layer2_size = 4\n",
    "layer2_stride = 2\n",
    "layer2_filters = 12\n",
    "\n",
    "layer3_size = 4\n",
    "layer3_stride = 2\n",
    "layer3_filters = 24\n",
    "\n",
    "layer4_nodes = 200\n",
    "\n",
    "# Input layer\n",
    "X = tf.placeholder(tf.float32, [None, img_height * img_width])\n",
    "X_img = tf.reshape(X, [-1, img_width, img_height, img_channels])\n",
    "Y_ = tf.placeholder(tf.float32, [None, num_classes])\n",
    "\n",
    "# Layer 1\n",
    "W1 = tf.Variable(tf.truncated_normal([layer1_size, layer1_size, img_channels, layer1_filters], stddev = 0.1))\n",
    "b1 = tf.Variable(tf.ones([layer1_filters]) / 10)\n",
    "Y1 = tf.nn.relu(tf.nn.conv2d(X_img, W1, strides = [1, layer1_stride, layer1_stride, 1], padding = 'SAME') + b1)\n",
    "\n",
    "# Layer 2\n",
    "W2 = tf.Variable(tf.truncated_normal([layer2_size, layer2_size, layer1_filters, layer2_filters], stddev = 0.1))\n",
    "b2 = tf.Variable(tf.ones([layer2_filters]) / 10)\n",
    "Y2 = tf.nn.relu(tf.nn.conv2d(Y1, W2, strides = [1, layer1_stride, layer1_stride, 1], padding = 'SAME') + b2)\n",
    "\n",
    "# Layer 3\n",
    "W3 = tf.Variable(tf.truncated_normal([layer3_size, layer3_size, layer2_filters, layer3_filters], stddev = 0.1))\n",
    "b3 = tf.Variable(tf.ones([layer3_filters]) / 10)\n",
    "Y3 = tf.nn.relu(tf.nn.conv2d(Y2, W3, strides = [1, layer3_stride, layer3_stride, 1], padding = 'SAME') + b3)\n",
    "Y3_shape = Y3.get_shape()\n",
    "# print Y3_shape\n",
    "Y3_flat = tf.reshape(Y3, [-1, 14 * 14 * 24])#tf.reshape(Y3, [-1, (Y3_shape[1] / (layer1_stride * layer2_stride)) * (Y3_shape[2] / (layer1_stride * layer2_stride)) * Y3_shape[3]])\n",
    "\n",
    "# Layer 4\n",
    "W4 = tf.Variable(tf.truncated_normal([14 * 14 * 24, layer4_nodes], stddev = 0.1))#tf.Variable(tf.truncated_normal([Y3_shape[0] * Y3_shape[1] * Y3_shape[2], layer4_nodes], stddev = 0.1))\n",
    "b4 = tf.Variable(tf.ones([layer4_nodes]) / 10)\n",
    "Y4 = tf.nn.relu(tf.matmul(Y3_flat, W4) + b4)\n",
    "\n",
    "# Layer 5\n",
    "W5 = tf.Variable(tf.truncated_normal([layer4_nodes, num_classes], stddev = 0.1))\n",
    "b5 = tf.Variable(tf.zeros([num_classes]))\n",
    "Y = tf.nn.softmax(tf.matmul(Y4, W5) + b5)\n",
    "\n",
    "# Loss function - Cross Entropy\n",
    "cross_entropy = - tf.reduce_sum(Y_ * tf.log(Y))\n",
    "\n",
    "# % of correct answers found in batch\n",
    "is_correct = tf.equal(tf.argmax(Y, 1), tf.argmax(Y_, 1))\n",
    "accuracy = tf.reduce_mean(tf.cast(is_correct, tf.float32))\n",
    "\n",
    "# Optimizer\n",
    "optimizer = tf.train.AdamOptimizer(learning_rate)\n",
    "train_step = optimizer.minimize(cross_entropy)\n",
    "\n",
    "nn_txt = \"./nn_txt\"\n",
    "if not os.path.exists(nn_txt):\n",
    "    os.makedirs(nn_txt)\n",
    "\n",
    "saver = tf.train.Saver()\n",
    "# Create the session\n",
    "sess = tf.Session()\n",
    "\n",
    "# Initialize the variables\n",
    "sess.run(tf.global_variables_initializer())\n",
    "txt = tf.train.get_checkpoint_state(nn_txt)\n",
    "if txt and txt.model_checkpoint_path:\n",
    "    print(txt.model_checkpoint_path)\n",
    "    saver.restore(sess, txt.model_checkpoint_path)\n",
    "# Run our Model!!\n",
    "# for i in range(num_epochs):\n",
    "#     # Load the input data\n",
    "#     batch_X, batch_Y = mnist_data.train.next_batch(batch_size)\n",
    "#     train_data = {X: batch_X, Y_: batch_Y}\n",
    "\n",
    "#     # Train\n",
    "#     sess.run(train_step, feed_dict = train_data)\n",
    "\n",
    "#     # Accuracy on training data\n",
    "#     acc, loss = sess.run([accuracy, cross_entropy], feed_dict = train_data)\n",
    "\n",
    "#     # Trying it out on test data\n",
    "#     test_data = {X: mnist_data.test.images, Y_: mnist_data.test.labels}\n",
    "\n",
    "#     # Accuracy on test data\n",
    "#     acc_test, loss_test = sess.run([accuracy, cross_entropy], feed_dict = test_data)\n",
    "#     saver.save(sess,nn_txt + \"/model.ckpt\")\n",
    "#     print (\"acc:%4f\"%acc)\n",
    "class Dataset(object):\n",
    "    def __init__(self, dtype='uint8', is_row_iamge=False):\n",
    "        images = np.fromfile('data/test images/images/test_image.bin', dtype=np.uint8).reshape(-1, 28, 28, 1)\n",
    "        print(images.shape)\n",
    "        if dtype == 'uint8':\n",
    "            self.images = images\n",
    "        else:\n",
    "            images = images.astype(np.float32) / 255.\n",
    "            self.images = images\n",
    "        if is_row_iamge:\n",
    "            self.images = images.reshape([-1, 784])\n",
    "        self.num_of_images = 6500\n",
    "        self.offset = 0\n",
    "        print('共6500张图片')\n",
    "        \n",
    "        \n",
    "    def next_batch(self, batch_size=50):\n",
    "        # 返回False表示以及没有样本\n",
    "        # 注意：最后一个批次可能不足batch_size 所以推荐选择6500可以整除的batch_size\n",
    "        if (self.offset + batch_size) <= self.num_of_images:\n",
    "            return self.images[self.offset-batch_size : self.offset]\n",
    "        elif self.offset < self.num_of_images:\n",
    "            self.offset += batch_size\n",
    "            return self.images[self.offset : ]\n",
    "        else:\n",
    "            False\n",
    "images = Dataset(is_row_iamge=True).images\n",
    "#batch = images.next_batch()\n",
    "with tf.Session() as sess:\n",
    "    sess.run([tf.local_variables_initializer(), tf.global_variables_initializer()])\n",
    "    res_label = sess.run(Y,feed_dict = {X:images})\n",
    "    print(np.argmax(res_label,1))\n",
    "    "
   ]
  },
  {
   "cell_type": "code",
   "execution_count": 3,
   "metadata": {},
   "outputs": [
    {
     "data": {
      "text/plain": [
       "(6500,)"
      ]
     },
     "execution_count": 3,
     "metadata": {},
     "output_type": "execute_result"
    }
   ],
   "source": [
    "np.argmax(res_label,1).shape"
   ]
  },
  {
   "cell_type": "code",
   "execution_count": 17,
   "metadata": {},
   "outputs": [
    {
     "data": {
      "text/plain": [
       "228"
      ]
     },
     "execution_count": 17,
     "metadata": {},
     "output_type": "execute_result"
    }
   ],
   "source": [
    "c = 0\n",
    "with open(\"data/Gaoyanzhao.txt\",\"w\") as f:\n",
    "    for i in range(np.argmax(res_label,1).shape[0]):\n",
    "        if np.argmax(res_label,1)[i] == 3:\n",
    "            c += 1\n",
    "        f.write(str(np.argmax(res_label,1)[i])+'\\n')\n",
    "c"
   ]
  },
  {
   "cell_type": "code",
   "execution_count": 1,
   "metadata": {},
   "outputs": [
    {
     "ename": "NameError",
     "evalue": "name 'Dataset' is not defined",
     "output_type": "error",
     "traceback": [
      "\u001b[0;31m---------------------------------------------------------------------------\u001b[0m",
      "\u001b[0;31mNameError\u001b[0m                                 Traceback (most recent call last)",
      "\u001b[0;32m<ipython-input-1-9c410758d86e>\u001b[0m in \u001b[0;36m<module>\u001b[0;34m()\u001b[0m\n\u001b[0;32m----> 1\u001b[0;31m \u001b[0mimages\u001b[0m \u001b[0;34m=\u001b[0m \u001b[0mDataset\u001b[0m\u001b[0;34m(\u001b[0m\u001b[0mis_row_iamge\u001b[0m\u001b[0;34m=\u001b[0m\u001b[0;32mTrue\u001b[0m\u001b[0;34m)\u001b[0m\u001b[0;34m\u001b[0m\u001b[0m\n\u001b[0m",
      "\u001b[0;31mNameError\u001b[0m: name 'Dataset' is not defined"
     ]
    }
   ],
   "source": [
    "images = Dataset(is_row_iamge=True)"
   ]
  },
  {
   "cell_type": "code",
   "execution_count": 9,
   "metadata": {},
   "outputs": [],
   "source": [
    "res =images.next_batch(50)"
   ]
  },
  {
   "cell_type": "code",
   "execution_count": 10,
   "metadata": {},
   "outputs": [
    {
     "data": {
      "text/plain": [
       "(0, 784)"
      ]
     },
     "execution_count": 10,
     "metadata": {},
     "output_type": "execute_result"
    }
   ],
   "source": [
    "res.shape"
   ]
  },
  {
   "cell_type": "code",
   "execution_count": null,
   "metadata": {},
   "outputs": [],
   "source": []
  }
 ],
 "metadata": {
  "kernelspec": {
   "display_name": "Python 3",
   "language": "python",
   "name": "python3"
  },
  "language_info": {
   "codemirror_mode": {
    "name": "ipython",
    "version": 3
   },
   "file_extension": ".py",
   "mimetype": "text/x-python",
   "name": "python",
   "nbconvert_exporter": "python",
   "pygments_lexer": "ipython3",
   "version": "3.6.0"
  }
 },
 "nbformat": 4,
 "nbformat_minor": 2
}
