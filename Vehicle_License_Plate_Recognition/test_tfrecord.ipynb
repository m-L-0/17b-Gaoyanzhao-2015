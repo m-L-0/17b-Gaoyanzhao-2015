{
 "cells": [
  {
   "cell_type": "code",
   "execution_count": 4,
   "metadata": {},
   "outputs": [],
   "source": [
    "import tensorflow as tf\n",
    "from PIL import Image\n",
    "import os"
   ]
  },
  {
   "cell_type": "code",
   "execution_count": 5,
   "metadata": {},
   "outputs": [],
   "source": [
    "image_filename = \"./字母和数字/\"\n",
    "labels = {'0':0, '1':1, '2':2, '3':3, '4':4, '5':5, '6':6, '7':7, '8':8, '9':9, 'A':10, 'B':11, 'C':12, 'D':13,'E':14,'F':15, 'G':16, 'H':17, 'J':18, 'K':19, 'L':20, 'M':21, 'N':22, 'P':23, 'Q':24, 'R':25, 'S':26, 'T':27, 'U':28, 'V':29, 'W':30, 'X':31, 'Y':32, 'Z':33} "
   ]
  },
  {
   "cell_type": "code",
   "execution_count": 6,
   "metadata": {},
   "outputs": [
    {
     "name": "stdout",
     "output_type": "stream",
     "text": [
      "4314\n"
     ]
    }
   ],
   "source": [
    "def _int64_feature(value):\n",
    "    return tf.train.Feature(int64_list=tf.train.Int64List(value=[value]))\n",
    "\n",
    "\n",
    "def _bytes_feature(value):\n",
    "    return tf.train.Feature(bytes_list=tf.train.BytesList(value=[value]))\n",
    "\n",
    "\n",
    "classes = labels.keys()\n",
    "writer = tf.python_io.TFRecordWriter(\"car_tset.tfrecords\")\n",
    "# writer2 = tf.python_io.TFRecordWriter(\"car_validation.tfrecords\")\n",
    "num = 0\n",
    "for names in classes:\n",
    "    class_path = image_filename + names + '/'\n",
    "    i = 0\n",
    "#     print(type(labels[names]))\n",
    "    for img_name in os.listdir(class_path):\n",
    "#         print(img_name)\n",
    "        img_path = class_path + img_name #得到每个图片的地址\n",
    "#         print(img_path)\n",
    "        i += 1\n",
    "        num += 1\n",
    "        img = Image.open(img_path).convert('L')\n",
    "        img = img.resize((24,48))\n",
    "        img_width, img_high = img.size\n",
    "#         print(img.size,img.mode)\n",
    "#         print(img_high,img_width)\n",
    "        \n",
    "        img_raw = img.tobytes()\n",
    "        label = labels[names]\n",
    "#         label = bytes(labels[names], \"utf-8\")\n",
    "#         print(label)\n",
    "#         print(type(label))\n",
    "#         print(names)\n",
    "#         print(type(names))\n",
    "        example = tf.train.Example(features=tf.train.Features(feature={\n",
    "                'img_width':_int64_feature(img_width),\n",
    "                'img_high':_int64_feature(img_high),\n",
    "                'labels': _int64_feature(label),\n",
    "                'image_raw': _bytes_feature(img_raw)}))\n",
    "#         if i < len(os.listdir(class_path))*0.75:\n",
    "#             writer1.write(example.SerializeToString())\n",
    "#         else:\n",
    "#             writer2.write(example.SerializeToString())\n",
    "        writer.write(example.SerializeToString())\n",
    "print(num)\n",
    "# writer1.close()\n",
    "# writer2.close()\n",
    "writer.close()"
   ]
  },
  {
   "cell_type": "code",
   "execution_count": null,
   "metadata": {},
   "outputs": [],
   "source": []
  }
 ],
 "metadata": {
  "kernelspec": {
   "display_name": "Python 3",
   "language": "python",
   "name": "python3"
  },
  "language_info": {
   "codemirror_mode": {
    "name": "ipython",
    "version": 3
   },
   "file_extension": ".py",
   "mimetype": "text/x-python",
   "name": "python",
   "nbconvert_exporter": "python",
   "pygments_lexer": "ipython3",
   "version": "3.6.0"
  }
 },
 "nbformat": 4,
 "nbformat_minor": 2
}
