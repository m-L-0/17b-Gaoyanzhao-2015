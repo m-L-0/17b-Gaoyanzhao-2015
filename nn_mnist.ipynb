{
 "cells": [
  {
   "cell_type": "code",
   "execution_count": 1,
   "metadata": {},
   "outputs": [],
   "source": [
    "import tensorflow as tf\n",
    "from tensorflow.examples.tutorials.mnist import input_data\n",
    "import matplotlib.pyplot as plt\n",
    "import seaborn\n",
    "import pylab as pl"
   ]
  },
  {
   "cell_type": "code",
   "execution_count": 2,
   "metadata": {},
   "outputs": [
    {
     "name": "stdout",
     "output_type": "stream",
     "text": [
      "Extracting data/fashion/train-images-idx3-ubyte.gz\n",
      "Extracting data/fashion/train-labels-idx1-ubyte.gz\n",
      "Extracting data/fashion/t10k-images-idx3-ubyte.gz\n",
      "Extracting data/fashion/t10k-labels-idx1-ubyte.gz\n"
     ]
    }
   ],
   "source": [
    "mnist = input_data.read_data_sets('data/fashion/',one_hot=True)"
   ]
  },
  {
   "cell_type": "code",
   "execution_count": 3,
   "metadata": {},
   "outputs": [],
   "source": [
    "from math import ceil\n",
    "\n",
    "def plot_images(images, title, imgsize):\n",
    "    n = images.shape[0]\n",
    "    n_cols = 10\n",
    "    n_rows = ceil(n / n_cols)\n",
    "    plt.figure(figsize=(1.8 * n_cols, 2 * n_rows))\n",
    "    plt.suptitle(title)\n",
    "    for i in range(n):\n",
    "        ax = plt.subplot(n_rows, n_cols, i + 1)\n",
    "        plot_image(ax, images[i,:], imgsize)\n",
    "        \n",
    "def plot_image(ax, image, imgsize):\n",
    "    plt.imshow(image.reshape(imgsize), cmap='Greys_r')\n",
    "    plt.xticks(())\n",
    "    plt.yticks(())"
   ]
  },
  {
   "cell_type": "code",
   "execution_count": 4,
   "metadata": {},
   "outputs": [],
   "source": [
    "plot_images(mnist.train.images[:10,:], \"Train examples extract\", (28,28))"
   ]
  },
  {
   "cell_type": "code",
   "execution_count": null,
   "metadata": {},
   "outputs": [],
   "source": [
    "x = tf.placeholder(tf.float32, [None, 28*28])\n",
    "y_ = tf.placeholder(tf.float32, [None, 10]) # known answers\n",
    "\n",
    "W = tf.Variable(tf.zeros([28*28, 10]))\n",
    "b = tf.Variable(tf.zeros([10]))\n",
    "#y = tf.nn.softmax(tf.matmul(x, W) + b)\n",
    "#cross_entropy = tf.reduce_mean(-tf.reduce_sum(y_ * tf.log(y), reduction_indices=[1]))\n",
    "\n",
    "y = tf.matmul(x, W) + b\n",
    "cross_entropy = tf.nn.softmax_cross_entropy_with_logits(logits=y, labels=y_)\n",
    "\n",
    "# reduce loss using optimizer\n",
    "train_step = tf.train.GradientDescentOptimizer(0.5).minimize(cross_entropy)\n",
    "\n",
    "# Launch init operation\n",
    "with tf.Session() as sess:\n",
    "    sess.run(tf.initialize_all_variables())\n",
    "    for i in range(1000):\n",
    "        batch_x, batch_y = mnist.train.next_batch(100)\n",
    "        sess.run(train_step, feed_dict={x: batch_x, y_: batch_y})\n",
    "\n",
    "    correct_predict = tf.equal(tf.argmax(y, 1), tf.argmax(y_, 1))\n",
    "    accuracy = tf.reduce_mean(tf.cast(correct_predict, tf.float32))\n",
    "\n",
    "    result = sess.run(accuracy, feed_dict={x: mnist.test.images, y_:mnist.test.labels})\n",
    "    print(\"Model accuracy %f\" % (result))\n",
    "\n",
    "    plot_images(sess.run(tf.transpose(W)), \"Model weights representation\", (28,28))"
   ]
  },
  {
   "cell_type": "code",
   "execution_count": null,
   "metadata": {},
   "outputs": [],
   "source": []
  }
 ],
 "metadata": {
  "kernelspec": {
   "display_name": "Python 3",
   "language": "python",
   "name": "python3"
  },
  "language_info": {
   "codemirror_mode": {
    "name": "ipython",
    "version": 3
   },
   "file_extension": ".py",
   "mimetype": "text/x-python",
   "name": "python",
   "nbconvert_exporter": "python",
   "pygments_lexer": "ipython3",
   "version": "3.6.0"
  }
 },
 "nbformat": 4,
 "nbformat_minor": 2
}
